{
  "cells": [
    {
      "cell_type": "markdown",
      "metadata": {},
      "source": [
        "# BH Mass\u2013Squared Quantization (GW + XRB + EHT)\n",
        "\n",
        "This notebook reproduces the pipeline:\n",
        "1. Download GW posteriors and BH mass tables\n",
        "2. Prepare unified \\(M^2\\) samples\n",
        "3. Run periodicity scan, Bayesian model, and CDF/Fourier analysis\n",
        "\n",
        "**Physical dictionary** (from the paper):\n",
        "- Visible capacity \\(K(P)=\\sum_{v\\in O_P}\\log_2 |A_v|\\) (discrete integer bits).\n",
        "- Memory density \\(\\rho_{\\rm mem}\\) and curvature \\(\\kappa\\) obey the Einstein\u2013Memory relation at block scale: \\(\\kappa_R = g_\\star (\\rho_{\\rm mem})_R\\).\n",
        "- In the Lorentz limit, area \\(A \\propto M^2\\), hence \\(M^2\\propto K\\).\n",
        "\n",
        "We therefore look for a **lattice** in \\(M^2\\): \\(M^2 \\approx n\\,\\Delta\\) with small Gaussian jitter \\(\\sigma\\).\n"
      ]
    },
    {
      "cell_type": "code",
      "execution_count": null,
      "metadata": {},
      "outputs": [],
      "source": [
        "# !python ../src/01_fetch_gw_posteriors.py --catalogs GWTC-3-confident GWTC-4-confident --max-events 999\n",
        "# !python ../src/02_fetch_blackcat_xrb.py\n",
        "# !python ../src/03_fetch_eht_smbh.py\n",
        "# !python ../src/10_prepare_samples.py --n-samples 4000 --include-eht\n"
      ]
    },
    {
      "cell_type": "markdown",
      "metadata": {},
      "source": [
        "## Periodicity scan in $M^2$\n",
        "We compute phases $\\phi=2\\pi\\, \\text{frac}(M^2/\\Delta)$ and apply Rayleigh/Kuiper tests across a grid of $\\Delta$ values determined solely by the data spread."
      ]
    },
    {
      "cell_type": "code",
      "execution_count": null,
      "metadata": {},
      "outputs": [],
      "source": [
        "# !python ../src/20_test_periodicity_M2.py --dataset all --B 400\n"
      ]
    },
    {
      "cell_type": "markdown",
      "metadata": {},
      "source": [
        "## Bayesian lattice-mixture model\n",
        "We fit a mixture of a smooth baseline and a lattice of Gaussian peaks at $n\\,\\Delta$. We report posteriors for \\(\\Delta\\), \\(\\sigma/\\Delta\\), and the lattice fraction $f_{\\rm latt}$, and compute a Savage\u2013Dickey Bayes factor for $f_{\\rm latt}>0$ vs $=0$."
      ]
    },
    {
      "cell_type": "code",
      "execution_count": null,
      "metadata": {},
      "outputs": [],
      "source": [
        "# !python ../src/30_bayes_mixture_lattice.py --dataset all --draws 3000 --tune 2000\n"
      ]
    },
    {
      "cell_type": "markdown",
      "metadata": {},
      "source": [
        "## CDF staircase / Fourier residual test\n",
        "We examine the ECDF residuals and their Fourier spectrum to detect periodic structure and estimate the dominant frequency (hence $\\Delta$)."
      ]
    },
    {
      "cell_type": "code",
      "execution_count": null,
      "metadata": {},
      "outputs": [],
      "source": [
        "# !python ../src/40_cdf_fourier_test.py --dataset all\n"
      ]
    },
    {
      "cell_type": "markdown",
      "metadata": {},
      "source": [
        "### Interpretation in the paper's variables\n",
        "- A detected $\\Delta$ corresponds to **one bit** of additional visible capacity $\\Delta K = 1$ mapped into an **area increment** via $A \\propto K$ and thence into **mass-squared** via $A \\propto M^2$.\n",
        "- The jitter ratio $\\sigma/\\Delta$ captures broadening from astrophysical growth and measurement uncertainties.\n",
        "- Consistency of $\\Delta$ across GW/XRB/EHT would support a universal capacity quantum, independent of environment or mass scale."
      ]
    }
  ],
  "metadata": {
    "kernelspec": {
      "display_name": "Python 3",
      "language": "python",
      "name": "python3"
    },
    "language_info": {
      "name": "python",
      "version": "3.11"
    }
  },
  "nbformat": 4,
  "nbformat_minor": 5
}